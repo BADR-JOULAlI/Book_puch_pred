{
 "cells": [
  {
   "cell_type": "markdown",
   "id": "6fbe8803",
   "metadata": {},
   "source": [
    "## Create the machine learning algorithm "
   ]
  },
  {
   "cell_type": "markdown",
   "id": "23cd2dad",
   "metadata": {},
   "source": [
    "#### Import the relevant libraries "
   ]
  },
  {
   "cell_type": "code",
   "execution_count": 3,
   "id": "b4f48987",
   "metadata": {},
   "outputs": [],
   "source": [
    "import numpy as np \n",
    "import tensorflow as tf \n"
   ]
  },
  {
   "cell_type": "markdown",
   "id": "32cb3061",
   "metadata": {},
   "source": [
    "#### Data"
   ]
  },
  {
   "cell_type": "code",
   "execution_count": 5,
   "id": "f844e10d",
   "metadata": {},
   "outputs": [],
   "source": [
    "npz = np.load('Audiobooks_data_train.npz')\n",
    "train_inputs = npz['inputs'].astype(np.float32)\n",
    "train_targets = npz['targets'].astype(np.int32)\n",
    "\n",
    "npz = np.load('Audiobooks_data_validation.npz')\n",
    "validation_inputs, validation_targets = npz['inputs'].astype(np.float32) , npz['targets'].astype(np.int32)\n",
    "\n",
    "npz = np.load('Audiobooks_data_test.npz')\n",
    "test_inputs, test_targets = npz['inputs'].astype(np.float32) , npz['targets'].astype(np.int32)"
   ]
  },
  {
   "cell_type": "markdown",
   "id": "d7ece8e0",
   "metadata": {},
   "source": [
    "#### Model"
   ]
  },
  {
   "cell_type": "markdown",
   "id": "c24a3373",
   "metadata": {},
   "source": [
    "###### Outline, optimizers, loss, early stopping and training"
   ]
  },
  {
   "cell_type": "code",
   "execution_count": null,
   "id": "fe38cb77",
   "metadata": {},
   "outputs": [
    {
     "name": "stdout",
     "output_type": "stream",
     "text": [
      "Epoch 1/100\n",
      "36/36 - 10s - 274ms/step - accuracy: 0.6479 - loss: 0.6219 - val_accuracy: 0.7383 - val_loss: 0.5058\n",
      "Epoch 2/100\n",
      "36/36 - 0s - 13ms/step - accuracy: 0.7564 - loss: 0.4767 - val_accuracy: 0.7987 - val_loss: 0.4163\n",
      "Epoch 3/100\n",
      "36/36 - 0s - 12ms/step - accuracy: 0.7809 - loss: 0.4210 - val_accuracy: 0.8188 - val_loss: 0.3734\n",
      "Epoch 4/100\n",
      "36/36 - 1s - 18ms/step - accuracy: 0.7879 - loss: 0.3946 - val_accuracy: 0.8143 - val_loss: 0.3536\n",
      "Epoch 5/100\n",
      "36/36 - 1s - 15ms/step - accuracy: 0.8080 - loss: 0.3755 - val_accuracy: 0.8412 - val_loss: 0.3378\n",
      "Epoch 6/100\n",
      "36/36 - 0s - 14ms/step - accuracy: 0.8005 - loss: 0.3689 - val_accuracy: 0.8098 - val_loss: 0.3271\n",
      "Epoch 7/100\n",
      "36/36 - 1s - 18ms/step - accuracy: 0.8103 - loss: 0.3589 - val_accuracy: 0.8322 - val_loss: 0.3316\n"
     ]
    },
    {
     "data": {
      "text/plain": [
       "<keras.src.callbacks.history.History at 0x2c74f599a50>"
      ]
     },
     "execution_count": 22,
     "metadata": {},
     "output_type": "execute_result"
    },
    {
     "ename": "",
     "evalue": "",
     "output_type": "error",
     "traceback": [
      "\u001b[1;31mThe Kernel crashed while executing code in the current cell or a previous cell. \n",
      "\u001b[1;31mPlease review the code in the cell(s) to identify a possible cause of the failure. \n",
      "\u001b[1;31mClick <a href='https://aka.ms/vscodeJupyterKernelCrash'>here</a> for more info. \n",
      "\u001b[1;31mView Jupyter <a href='command:jupyter.viewOutput'>log</a> for further details."
     ]
    }
   ],
   "source": [
    "### Create the DL model\n",
    "input_size = 10\n",
    "output_size = 2\n",
    "hidden_layer_size = 50\n",
    "model = tf.keras.Sequential([\n",
    "    tf.keras.layers.Dense(hidden_layer_size, activation='relu'),\n",
    "    tf.keras.layers.Dense(hidden_layer_size, activation='relu'),\n",
    "    tf.keras.layers.Dense(output_size, activation='softmax')\n",
    "])\n",
    "\n",
    "## Compile the model\n",
    "model.compile(optimizer='adam', loss='sparse_categorical_crossentropy', metrics=['accuracy'])\n",
    "batch_size = 100\n",
    "max_epochs = 100\n",
    "\n",
    "early_stopping = tf.keras.callbacks.EarlyStopping()\n",
    "model.fit(train_inputs, train_targets, \n",
    "          batch_size=batch_size, epochs=max_epochs,\n",
    "          callbacks=[early_stopping], \n",
    "          validation_data=(validation_inputs, validation_targets), verbose=2)"
   ]
  },
  {
   "cell_type": "code",
   "execution_count": 21,
   "id": "8fb91581",
   "metadata": {},
   "outputs": [
    {
     "name": "stdout",
     "output_type": "stream",
     "text": [
      "\u001b[1m14/14\u001b[0m \u001b[32m━━━━━━━━━━━━━━━━━━━━\u001b[0m\u001b[37m\u001b[0m \u001b[1m0s\u001b[0m 16ms/step - accuracy: 0.7879 - loss: 0.3833\n",
      "Test loss: 0.383, Test accuracy: 0.788\n"
     ]
    }
   ],
   "source": [
    "test_loss, test_accuracy = model.evaluate(test_inputs, test_targets)\n",
    "print(f\"Test loss: {test_loss:.3f}, Test accuracy: {test_accuracy :.3f}\")"
   ]
  },
  {
   "cell_type": "code",
   "execution_count": 15,
   "id": "994d7ac8",
   "metadata": {},
   "outputs": [
    {
     "name": "stdout",
     "output_type": "stream",
     "text": [
      "\n",
      "Training with learning rate = 0.001\n"
     ]
    },
    {
     "name": "stderr",
     "output_type": "stream",
     "text": [
      "C:\\Users\\anony\\AppData\\Roaming\\Python\\Python313\\site-packages\\keras\\src\\layers\\core\\dense.py:92: UserWarning: Do not pass an `input_shape`/`input_dim` argument to a layer. When using Sequential models, prefer using an `Input(shape)` object as the first layer in the model instead.\n",
      "  super().__init__(activity_regularizer=activity_regularizer, **kwargs)\n"
     ]
    },
    {
     "name": "stdout",
     "output_type": "stream",
     "text": [
      "\n",
      "Training with learning rate = 0.01\n",
      "\n",
      "Training with learning rate = 0.1\n"
     ]
    }
   ],
   "source": [
    "import matplotlib.pyplot as plt\n",
    "import tensorflow as tf\n",
    "\n",
    "learning_rates = [0.001, 0.01, 0.1]   # try different ones\n",
    "histories = {}\n",
    "early_stopping = tf.keras.callbacks.EarlyStopping(patience=2)\n",
    "\n",
    "for lr in learning_rates:\n",
    "    print(f\"\\nTraining with learning rate = {lr}\")\n",
    "    model = tf.keras.Sequential([\n",
    "        tf.keras.layers.Dense(50, activation='relu', input_shape=(10,)),\n",
    "        tf.keras.layers.Dense(50, activation='relu'),\n",
    "        tf.keras.layers.Dense(2, activation='softmax')\n",
    "    ])\n",
    "    \n",
    "    model.compile(\n",
    "        optimizer=tf.keras.optimizers.Adam(learning_rate=lr),\n",
    "        loss='sparse_categorical_crossentropy',\n",
    "        metrics=['accuracy']\n",
    "    )\n",
    "    \n",
    "    history = model.fit(\n",
    "        train_inputs, train_targets,\n",
    "        batch_size=100,\n",
    "        epochs=30, \n",
    "        callbacks=[early_stopping],# fewer epochs just to compare\n",
    "        validation_data=(validation_inputs, validation_targets),\n",
    "        verbose=0\n",
    "    )\n",
    "    histories[lr] = history\n"
   ]
  },
  {
   "cell_type": "code",
   "execution_count": 14,
   "id": "e14b0096",
   "metadata": {},
   "outputs": [
    {
     "data": {
      "image/png": "[encoded data removed]",
      "text/plain": [
       "<Figure size 400x400 with 1 Axes>"
      ]
     },
     "metadata": {},
     "output_type": "display_data"
    }
   ],
   "source": [
    "plt.figure(figsize=(4,4))\n",
    "\n",
    "for lr, history in histories.items():\n",
    "    plt.plot(history.history['val_loss'], label=f'LR={lr}')\n",
    "\n",
    "plt.title(\"Validation Loss vs Epochs (Different Learning Rates)\")\n",
    "plt.xlabel(\"Epochs\")\n",
    "plt.ylabel(\"Loss\")\n",
    "plt.legend()\n",
    "plt.show()\n"
   ]
  },
  {
   "cell_type": "markdown",
   "id": "cdc5b7b8",
   "metadata": {},
   "source": [
    "### Test the model"
   ]
  },
  {
   "cell_type": "code",
   "execution_count": 17,
   "id": "27b74323",
   "metadata": {},
   "outputs": [
    {
     "name": "stdout",
     "output_type": "stream",
     "text": [
      "\u001b[1m14/14\u001b[0m \u001b[32m━━━━━━━━━━━━━━━━━━━━\u001b[0m\u001b[37m\u001b[0m \u001b[1m0s\u001b[0m 14ms/step - accuracy: 0.7545 - loss: 0.4143\n",
      "Test loss: 0.414, Test accuracy: 0.754\n"
     ]
    }
   ],
   "source": [
    "test_loss, test_accuracy = model.evaluate(test_inputs, test_targets)\n",
    "print(f\"Test loss: {test_loss:.3f}, Test accuracy: {test_accuracy :.3f}\")"
   ]
  },
  {
   "cell_type": "code",
   "execution_count": null,
   "id": "b26b686b",
   "metadata": {},
   "outputs": [],
   "source": []
  }
 ],
 "metadata": {
  "kernelspec": {
   "display_name": "Python 3",
   "language": "python",
   "name": "python3"
  },
  "language_info": {
   "codemirror_mode": {
    "name": "ipython",
    "version": 3
   },
   "file_extension": ".py",
   "mimetype": "text/x-python",
   "name": "python",
   "nbconvert_exporter": "python",
   "pygments_lexer": "ipython3",
   "version": "3.13.3"
  }
 },
 "nbformat": 4,
 "nbformat_minor": 5
}
